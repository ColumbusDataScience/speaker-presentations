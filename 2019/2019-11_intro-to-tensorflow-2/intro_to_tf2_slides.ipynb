{
 "cells": [
  {
   "cell_type": "code",
   "execution_count": null,
   "metadata": {
    "slideshow": {
     "slide_type": "skip"
    }
   },
   "outputs": [],
   "source": [
    "import tensorflow as tf\n",
    "from tensorflow.keras.callbacks import (\n",
    "    EarlyStopping,\n",
    "    TensorBoard,\n",
    "    ModelCheckpoint\n",
    ")"
   ]
  },
  {
   "cell_type": "markdown",
   "metadata": {
    "slideshow": {
     "slide_type": "slide"
    }
   },
   "source": [
    "# Building Models with TF 2.0\n",
    "\n",
    "## 20 November 2019"
   ]
  },
  {
   "cell_type": "markdown",
   "metadata": {
    "slideshow": {
     "slide_type": "slide"
    }
   },
   "source": [
    "# The TensorFlow Ecosystem\n",
    "\n",
    "![tensorflow-ecosystem](assets/tf_ecosystem.png)\n",
    "\n",
    "Source: [Josh Gordon, Google](https://youtu.be/5ECD8J3dvDQ?t=128)"
   ]
  },
  {
   "cell_type": "markdown",
   "metadata": {
    "slideshow": {
     "slide_type": "slide"
    }
   },
   "source": [
    "# Strategies for Building Models\n",
    "\n",
    "- Sequential API\n",
    "- Functional API\n",
    "- Functional API + custom layers / metrics / losses\n",
    "- Subclass `tf.keras.Model` to fit your own needs"
   ]
  },
  {
   "cell_type": "markdown",
   "metadata": {
    "slideshow": {
     "slide_type": "slide"
    }
   },
   "source": [
    "# Sequential API"
   ]
  },
  {
   "cell_type": "code",
   "execution_count": null,
   "metadata": {},
   "outputs": [],
   "source": [
    "model = tf.keras.Sequential()\n",
    "model.add(tf.keras.layers.Dense(32, activation='relu', input_shape=(784,)))\n",
    "model.add(tf.keras.layers.Dense(32, activation='relu'))\n",
    "model.add(tf.keras.layers.Dense(32, activation='sigmoid'))"
   ]
  },
  {
   "cell_type": "markdown",
   "metadata": {},
   "source": [
    "With the Sequential API (or functional, or with subclassing), we're defining a data structure — this gives us the benefit of compile-time checks, such as ensuring that all of our layers are compatible with one another"
   ]
  },
  {
   "cell_type": "markdown",
   "metadata": {
    "slideshow": {
     "slide_type": "slide"
    }
   },
   "source": [
    "# Functional API\n",
    "\n",
    "Where the Sequential API is a stack of layers, the functional API is a **graph** of layers.\n",
    "\n",
    "Why does this matter? Consider a couple of use cases:\n",
    "  - Given an image, classify the animal in the image (sounds like a CNN)\n",
    "  - Given an image of two dogs, identify the color of the dog on the right (CNN for the image; embedding + LSTM for the text question)"
   ]
  },
  {
   "cell_type": "markdown",
   "metadata": {
    "slideshow": {
     "slide_type": "slide"
    }
   },
   "source": [
    "# Functional API\n",
    "\n",
    "![Wide and Deep recommender system](assets/wide_deep.png)\n",
    "(Source: [arXiv:1606.07792](https://arxiv.org/abs/1606.07792))"
   ]
  },
  {
   "cell_type": "markdown",
   "metadata": {
    "slideshow": {
     "slide_type": "slide"
    }
   },
   "source": [
    "# Functional API"
   ]
  },
  {
   "cell_type": "code",
   "execution_count": null,
   "metadata": {},
   "outputs": [],
   "source": [
    "wide_input = tf.keras.layers.Input(shape=(100,))\n",
    "deep_input = tf.keras.layers.Input(shape=(100,))\n",
    "\n",
    "deep_hidden = tf.keras.layers.Dense(64, activation='relu')(deep_input)\n",
    "deep_hidden = tf.keras.layers.Dense(32, activation='relu')(deep_hidden)\n",
    "\n",
    "combined = tf.keras.layers.concatenate([wide_input, deep_hidden])\n",
    "output = tf.keras.layers.Dense(1, activation='sigmoid')(combined)"
   ]
  },
  {
   "cell_type": "markdown",
   "metadata": {
    "slideshow": {
     "slide_type": "slide"
    }
   },
   "source": [
    "# Functional API"
   ]
  },
  {
   "cell_type": "code",
   "execution_count": null,
   "metadata": {},
   "outputs": [],
   "source": [
    "model = tf.keras.Model(\n",
    "    inputs=[wide_input, deep_input],\n",
    "    outputs=output)\n",
    "model.summary()"
   ]
  },
  {
   "cell_type": "markdown",
   "metadata": {},
   "source": [
    "```\n",
    "Model: \"sample_model\"\n",
    "______________________________________________________________________________\n",
    "Layer (type)                  Output Shape       Param #   Connected to                     \n",
    "==============================================================================\n",
    "input_1 (InputLayer)          [(None, 100)]      0                                          \n",
    "______________________________________________________________________________\n",
    "input_2 (InputLayer)          [(None, 100)]      0                                            \n",
    "______________________________________________________________________________\n",
    "dense_1 (Dense)               (None, 64)         6464      input_2[0][0]                   \n",
    "______________________________________________________________________________\n",
    "dense_2 (Dense)               (None, 32)         2080      dense_1[0][0]                   \n",
    "______________________________________________________________________________\n",
    "concatenate_1 (Concatenate)   (None, 132)        0         input_1[0][0]                   \n",
    "                                                           dense_2[0][0]                   \n",
    "______________________________________________________________________________\n",
    "dense_3 (Dense)               (None, 1)          133       concatenate_1[0][0]              \n",
    "==============================================================================\n",
    "Total params: 8,677\n",
    "Trainable params: 8,677\n",
    "Non-trainable params: 0\n",
    "```"
   ]
  },
  {
   "cell_type": "markdown",
   "metadata": {
    "slideshow": {
     "slide_type": "slide"
    }
   },
   "source": [
    "# Functional API"
   ]
  },
  {
   "cell_type": "code",
   "execution_count": null,
   "metadata": {},
   "outputs": [],
   "source": [
    "tf.keras.utils.plot_model(\n",
    "    model,\n",
    "    to_file='assets/model_dag.png')"
   ]
  },
  {
   "cell_type": "markdown",
   "metadata": {},
   "source": [
    "![](assets/model_dag.png)"
   ]
  },
  {
   "cell_type": "markdown",
   "metadata": {
    "slideshow": {
     "slide_type": "slide"
    }
   },
   "source": [
    "# Subclassing"
   ]
  },
  {
   "cell_type": "code",
   "execution_count": null,
   "metadata": {},
   "outputs": [],
   "source": [
    "class MyModel(tf.keras.Model):\n",
    "    def __init__(self, num_classes=10):\n",
    "        super(MyModel, self).__init__(name='sample_model')\n",
    "        self.dense_1 = tf.keras.layers.Dense(32)\n",
    "        self.dense_2 = tf.keras.layers.Dense(num_classes, activation='softmax')\n",
    "    \n",
    "    def call(self, inputs):\n",
    "        x = self.dense_1(inputs)\n",
    "        x = tf.nn.relu(x)\n",
    "        return self.dense_2(x)"
   ]
  },
  {
   "cell_type": "markdown",
   "metadata": {
    "slideshow": {
     "slide_type": "slide"
    }
   },
   "source": [
    "# Model Training\n",
    "## From simple to arbitrarily complex\n",
    "\n",
    "  - `model.fit()`\n",
    "  - `model.fit()` with callbacks\n",
    "  - `model.train_on_batch()` with callbacks\n",
    "  - Roll your own training loop with `GradientTape()`"
   ]
  },
  {
   "cell_type": "markdown",
   "metadata": {
    "slideshow": {
     "slide_type": "slide"
    }
   },
   "source": [
    "# Model Training"
   ]
  },
  {
   "cell_type": "code",
   "execution_count": null,
   "metadata": {},
   "outputs": [],
   "source": [
    "model.fit(\n",
    "    train_ds,\n",
    "    epochs=5,\n",
    "    validation_data=val_ds,\n",
    "    callbacks=[\n",
    "        EarlyStopping(),\n",
    "        TensorBoard(),\n",
    "        ModelCheckpoint()\n",
    "    ]\n",
    ")"
   ]
  },
  {
   "cell_type": "markdown",
   "metadata": {
    "slideshow": {
     "slide_type": "slide"
    }
   },
   "source": [
    "# Let's build a model\n",
    "\n",
    "Access the Google Colab notebook here: [https://go.c18l.org/u/tf2](https://go.c18l.org/u/tf2)"
   ]
  }
 ],
 "metadata": {
  "kernelspec": {
   "display_name": "Python 3",
   "language": "python",
   "name": "python3"
  },
  "language_info": {
   "codemirror_mode": {
    "name": "ipython",
    "version": 3
   },
   "file_extension": ".py",
   "mimetype": "text/x-python",
   "name": "python",
   "nbconvert_exporter": "python",
   "pygments_lexer": "ipython3",
   "version": "3.7.4"
  }
 },
 "nbformat": 4,
 "nbformat_minor": 4
}
